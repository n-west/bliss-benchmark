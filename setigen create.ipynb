{
 "cells": [
  {
   "cell_type": "code",
   "execution_count": 1,
   "metadata": {},
   "outputs": [],
   "source": [
    "import os\n",
    "os.environ['SETIGEN_ENABLE_GPU'] = '1'\n",
    "os.environ['CUDA_VISIBLE_DEVICES'] = '0'"
   ]
  },
  {
   "cell_type": "code",
   "execution_count": 2,
   "metadata": {},
   "outputs": [],
   "source": [
    "%matplotlib inline\n",
    "import matplotlib.pyplot as plt\n",
    "\n",
    "import numpy as np\n",
    "from astropy import units as u\n",
    "import blimpy as bl\n",
    "\n",
    "import setigen as stg"
   ]
  },
  {
   "cell_type": "code",
   "execution_count": 3,
   "metadata": {},
   "outputs": [
    {
     "name": "stderr",
     "output_type": "stream",
     "text": [
      "Blocks: 100%|██████████| 1/1 [00:53<00:00, 53.48s/it]\n"
     ]
    }
   ],
   "source": [
    "sample_rate = 3e9\n",
    "num_taps = 8\n",
    "num_branches = 1024\n",
    "\n",
    "chan_bw = sample_rate / num_branches\n",
    "\n",
    "digitizer = stg.voltage.RealQuantizer(target_fwhm=32,\n",
    "                                      num_bits=8)\n",
    "\n",
    "filterbank = stg.voltage.PolyphaseFilterbank(num_taps=num_taps, \n",
    "                                             num_branches=num_branches)\n",
    "\n",
    "requantizer = stg.voltage.ComplexQuantizer(target_fwhm=32,\n",
    "                                           num_bits=8)\n",
    "\n",
    "num_pols = 1\n",
    "antenna = stg.voltage.Antenna(sample_rate=sample_rate, \n",
    "                              fch1=6*u.GHz,\n",
    "                              ascending=True,\n",
    "                              num_pols=num_pols,\n",
    "                              seed=42)\n",
    "\n",
    "v_std = 1\n",
    "\n",
    "# The docs example uses this\n",
    "antenna.x.add_noise(v_mean=0,\n",
    "                    v_std=v_std)\n",
    "\n",
    "# the notebook example uses this\n",
    "# for stream in antenna.streams:\n",
    "#     stream.add_noise(v_mean=0,\n",
    "#                      v_std=v_std)\n",
    "\n",
    "rvb = stg.voltage.RawVoltageBackend(antenna,\n",
    "                                    digitizer=digitizer,\n",
    "                                    filterbank=filterbank,\n",
    "                                    requantizer=requantizer,\n",
    "                                    start_chan=0,\n",
    "                                    num_chans=64,\n",
    "                                    block_size=134217728,\n",
    "                                    blocks_per_file=128,\n",
    "                                    num_subblocks=32)\n",
    "\n",
    "fname = f'test_v_std{v_std}_pols{num_pols}'\n",
    "rvb.record(output_file_stem=fname,\n",
    "           num_blocks=1, \n",
    "           length_mode='num_blocks',\n",
    "           header_dict={'TELESCOP': 'GBT'},\n",
    "           verbose=False)\n",
    "\n"
   ]
  },
  {
   "cell_type": "code",
   "execution_count": null,
   "metadata": {},
   "outputs": [],
   "source": []
  },
  {
   "cell_type": "code",
   "execution_count": 5,
   "metadata": {},
   "outputs": [
    {
     "name": "stderr",
     "output_type": "stream",
     "text": [
      "Blocks: 100%|██████████| 1/1 [00:52<00:00, 52.84s/it]\n"
     ]
    }
   ],
   "source": [
    "sample_rate = 3e9\n",
    "num_taps = 8\n",
    "num_branches = 1024\n",
    "\n",
    "chan_bw = sample_rate / num_branches\n",
    "\n",
    "digitizer = stg.voltage.RealQuantizer(target_fwhm=32,\n",
    "                                      num_bits=8)\n",
    "\n",
    "filterbank = stg.voltage.PolyphaseFilterbank(num_taps=num_taps, \n",
    "                                             num_branches=num_branches)\n",
    "\n",
    "requantizer = stg.voltage.ComplexQuantizer(target_fwhm=32,\n",
    "                                           num_bits=8)\n",
    "\n",
    "num_pols = 1\n",
    "antenna = stg.voltage.Antenna(sample_rate=sample_rate, \n",
    "                              fch1=6*u.GHz,\n",
    "                              ascending=True,\n",
    "                              num_pols=num_pols,\n",
    "                              seed=42)\n",
    "\n",
    "v_std = 5000\n",
    "\n",
    "# The docs example uses this\n",
    "antenna.x.add_noise(v_mean=0,\n",
    "                    v_std=v_std)\n",
    "\n",
    "# # the notebook example uses this\n",
    "# for stream in antenna.streams:\n",
    "#     stream.add_noise(v_mean=0,\n",
    "#                      v_std=v_std)\n",
    "\n",
    "rvb = stg.voltage.RawVoltageBackend(antenna,\n",
    "                                    digitizer=digitizer,\n",
    "                                    filterbank=filterbank,\n",
    "                                    requantizer=requantizer,\n",
    "                                    start_chan=0,\n",
    "                                    num_chans=64,\n",
    "                                    block_size=134217728,\n",
    "                                    blocks_per_file=128,\n",
    "                                    num_subblocks=32)\n",
    "\n",
    "fname = f'test_v_std{v_std}_pols{num_pols}'\n",
    "rvb.record(output_file_stem=fname,\n",
    "           num_blocks=1, \n",
    "           length_mode='num_blocks',\n",
    "           header_dict={'TELESCOP': 'GBT'},\n",
    "           verbose=False)\n",
    "\n"
   ]
  },
  {
   "cell_type": "code",
   "execution_count": null,
   "metadata": {},
   "outputs": [],
   "source": []
  }
 ],
 "metadata": {
  "kernelspec": {
   "display_name": "bliss-benchmark",
   "language": "python",
   "name": "python3"
  },
  "language_info": {
   "codemirror_mode": {
    "name": "ipython",
    "version": 3
   },
   "file_extension": ".py",
   "mimetype": "text/x-python",
   "name": "python",
   "nbconvert_exporter": "python",
   "pygments_lexer": "ipython3",
   "version": "3.12.3"
  }
 },
 "nbformat": 4,
 "nbformat_minor": 2
}
