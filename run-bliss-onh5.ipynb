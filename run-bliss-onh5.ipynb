{
 "cells": [
  {
   "cell_type": "code",
   "execution_count": 3,
   "metadata": {},
   "outputs": [],
   "source": [
    "# import os\n",
    "# os.environ[\"HDF5_PLUGIN_PATH\"] = \"/home/nathan/Projects/bliss-benchmark/bliss-benchmark/lib/python3.12/site-packages/bitshuffle/plugin/\"\n",
    "import hdf5plugin\n",
    "import h5py\n",
    "\n",
    "\n"
   ]
  },
  {
   "cell_type": "code",
   "execution_count": 4,
   "metadata": {},
   "outputs": [
    {
     "data": {
      "text/plain": [
       "array([ 50.892563 ,  29.114204 ,  43.556465 ,  25.403622 , 158.85335  ,\n",
       "        24.556377 ,  33.24342  , 112.94711  ,   9.08705  ,  90.72673  ,\n",
       "        30.857811 ,  59.641575 ,  51.278637 ,  13.695202 ,  20.370192 ,\n",
       "        41.370148 ,  36.8839   ,  40.173683 ,  53.19699  ,  77.57069  ,\n",
       "        17.296467 ,  45.33088  ,  13.556461 ,  73.19396  ,  23.349401 ,\n",
       "        56.631824 ,  20.681068 , 138.04868  ,  45.40112  ,  99.31743  ,\n",
       "        63.40635  ,   9.780838 ,  15.208937 ,  13.90967  ,  62.778248 ,\n",
       "        18.31658  ,  56.244102 ,  79.2467   ,  69.1916   ,   8.257547 ,\n",
       "        33.562614 ,  20.307453 ,  41.383835 ,  17.043839 ,   8.507711 ,\n",
       "        63.40468  ,  82.25183  ,  66.80269  ,  60.394997 , 117.826675 ,\n",
       "         9.959839 ,  26.186363 ,  33.00824  ,   6.133423 ,  69.22527  ,\n",
       "        28.648396 ,  22.389097 , 158.76527  ,  39.27897  ,   6.094116 ,\n",
       "        27.482027 , 117.75408  ,   5.3286657,  73.9046   ,  26.062998 ,\n",
       "        13.480873 ,  47.81604  ,  82.52848  ,  42.429047 ,  31.775185 ,\n",
       "        37.728935 ,  21.296669 ,  58.766277 ,  37.391624 ,  83.85224  ,\n",
       "        25.966755 ,  36.1493   ,  37.56819  ,  16.716612 ,  52.42111  ,\n",
       "        71.15791  ,  96.8076   ,  23.48082  ,  50.32852  ,  48.887955 ,\n",
       "        26.272131 ,   2.2444687,  96.08345  ,  38.049282 ,  63.26996  ,\n",
       "        11.063927 ,  72.06485  ,  49.713966 ,  47.87706  ,  67.46871  ,\n",
       "       149.90747  ,  12.839357 ,  69.54138  ,  19.156368 ,  87.485794 ,\n",
       "        58.911144 ,  78.57283  , 139.77347  ,  41.604443 ,  49.79167  ,\n",
       "        90.69137  ,  15.735383 ,  33.220905 ,  56.492764 ,  23.806684 ,\n",
       "       103.81834  ,  40.461475 ,  12.591862 ,  53.194347 ,  61.028313 ,\n",
       "        54.716732 ,  76.019    ,  24.703945 ,  30.044823 ,  62.680542 ,\n",
       "        30.964535 ,   6.483848 ,  51.426987 ,  81.08545  ,  21.184824 ,\n",
       "         1.7790318,  40.399963 ,  29.607164 , 252.92914  , 168.37361  ,\n",
       "        22.096111 ,  21.3219   , 144.77777  ,  72.6127   ,  11.988541 ,\n",
       "        38.217476 ,  55.877304 ,  55.66842  ,  57.348446 , 107.970856 ,\n",
       "        51.801296 ,  30.460346 ,  19.799858 ,  29.11198  ,  86.25697  ,\n",
       "        33.875317 , 118.53854  ,  31.655968 ,  81.19028  ,  12.218609 ,\n",
       "        10.727072 ,  48.016125 ,  19.806479 ,  34.381416 ,  44.92239  ,\n",
       "        69.46778  , 106.90446  ,  62.216927 ,  77.71931  ,  35.066765 ,\n",
       "        71.841805 ,  16.68108  , 152.97171  ,   5.0563564,  42.33126  ,\n",
       "        22.993805 ,  25.755455 ,  47.908356 ,  27.606533 ,  62.02314  ,\n",
       "        58.715874 ,  71.35747  , 162.23657  , 112.09691  ,  15.085    ,\n",
       "        89.482666 , 113.68235  ,  63.403088 , 127.37677  ,  65.68635  ,\n",
       "        73.810326 ,  48.323936 ,  71.80173  ,  23.624096 ,  22.168201 ,\n",
       "        32.113503 ,  18.23436  ,  42.48791  , 185.98721  ,  23.44259  ,\n",
       "        35.26574  ,  96.6158   ,  57.79192  ,  46.44423  ,  49.469273 ,\n",
       "        43.856586 ,  47.63358  ,  73.34452  ,  24.38787  ,  39.522667 ,\n",
       "       122.07482  ,  82.03391  ,  16.014074 , 153.48637  ,  21.52489  ,\n",
       "        84.47652  ,  77.32887  ,  61.13051  ,  48.457367 ,  12.277891 ,\n",
       "        42.476944 ,  40.72822  ,  77.431854 ,  19.778784 ,  12.252823 ,\n",
       "        46.63728  ,  33.539967 ,  40.38508  , 135.68683  ,  30.0186   ,\n",
       "        38.936207 ,  26.207575 , 134.15982  ,  20.2852   ,  87.75781  ,\n",
       "        28.891747 ,  41.56127  ,  17.85194  ,  10.562034 , 136.83301  ,\n",
       "        49.06379  ,  46.784428 , 144.49936  ,  86.52978  ,  73.47769  ,\n",
       "        40.505733 ,  57.440193 ,  88.37693  ,  76.948685 ,  56.916286 ,\n",
       "        51.485527 ,   7.19071  ,  34.543312 ,  64.58013  ,  52.7949   ,\n",
       "        34.29196  ,  38.106956 ,   9.320597 ,  98.90285  ,  59.62491  ,\n",
       "        45.225307 ,  42.9349   ,  30.008743 ,  47.108055 ,  26.724285 ,\n",
       "        33.640335 ], dtype=float32)"
      ]
     },
     "execution_count": 4,
     "metadata": {},
     "output_type": "execute_result"
    }
   ],
   "source": [
    "h5_comparison0 = h5py.File(\"test_v_std0.1_pols1.rawspec.0000.h5\")\n",
    "h5_comparison0_fildata = h5_comparison0[\"data\"]\n",
    "\n",
    "h5_comparison0_fildata[:,0,0]\n"
   ]
  },
  {
   "cell_type": "code",
   "execution_count": null,
   "metadata": {},
   "outputs": [],
   "source": []
  },
  {
   "cell_type": "code",
   "execution_count": null,
   "metadata": {},
   "outputs": [],
   "source": []
  },
  {
   "cell_type": "code",
   "execution_count": null,
   "metadata": {},
   "outputs": [],
   "source": [
    "print(h5_comparison1_fildata.shape)\n",
    "for k in h5_comparison1_fildata.attrs:\n",
    "    print(f\"{k} = {h5_comparison1_fildata.attrs[k]}\")"
   ]
  },
  {
   "cell_type": "code",
   "execution_count": null,
   "metadata": {},
   "outputs": [],
   "source": [
    "h5_comparison0 = h5_comparison0_fildata[:,0,:]\n",
    "h5_comparison1 = h5_comparison1_fildata[:,0,:]\n",
    "h5_comparison2 = h5_comparison2_fildata[:,0,:]\n"
   ]
  },
  {
   "cell_type": "code",
   "execution_count": null,
   "metadata": {},
   "outputs": [],
   "source": [
    "%matplotlib widget\n",
    "import matplotlib.pyplot as plt\n",
    "import numpy as np"
   ]
  },
  {
   "cell_type": "code",
   "execution_count": null,
   "metadata": {},
   "outputs": [],
   "source": [
    "h5_comparison0_slice = h5_comparison0[:,1*1024+300:2*1024-200]\n",
    "h5_comparison1_slice = h5_comparison1[:,1*1024+300:2*1024-200]\n",
    "h5_comparison2_slice = h5_comparison2[:,1*1024+300:2*1024-200]\n",
    "\n",
    "print(np.std(h5_comparison0_slice))\n",
    "print(np.std(h5_comparison1_slice))\n",
    "print(np.std(h5_comparison2_slice))\n",
    "\n"
   ]
  },
  {
   "cell_type": "code",
   "execution_count": null,
   "metadata": {},
   "outputs": [],
   "source": [
    "2734\n",
    "54\n",
    "33"
   ]
  },
  {
   "cell_type": "code",
   "execution_count": null,
   "metadata": {},
   "outputs": [],
   "source": [
    "plt.figure()\n",
    "plt.plot(np.mean(h5_comparison0[:,1*1024:2*1024], 0))\n",
    "plt.plot(np.mean(h5_comparison1[:,1*1024:2*1024], 0))\n",
    "plt.plot(np.mean(h5_comparison2[:,1*1024:2*1024], 0))\n",
    "\n",
    "plt.figure()\n",
    "plt.plot(h5_comparison0[0,1*1024:2*1024])\n",
    "plt.plot(h5_comparison0[1,1*1024:2*1024])\n",
    "plt.plot(h5_comparison0[2,1*1024:2*1024])\n",
    "plt.plot(h5_comparison0[3,1*1024:2*1024])\n",
    "plt.plot(h5_comparison0[4,1*1024:2*1024])\n",
    "plt.plot(h5_comparison0[5,1*1024:2*1024])\n",
    "plt.plot(h5_comparison0[6,1*1024:2*1024])\n"
   ]
  },
  {
   "cell_type": "code",
   "execution_count": null,
   "metadata": {},
   "outputs": [],
   "source": []
  },
  {
   "cell_type": "code",
   "execution_count": null,
   "metadata": {},
   "outputs": [],
   "source": []
  },
  {
   "cell_type": "code",
   "execution_count": null,
   "metadata": {},
   "outputs": [],
   "source": []
  }
 ],
 "metadata": {
  "kernelspec": {
   "display_name": "bliss-benchmark",
   "language": "python",
   "name": "python3"
  },
  "language_info": {
   "codemirror_mode": {
    "name": "ipython",
    "version": 3
   },
   "file_extension": ".py",
   "mimetype": "text/x-python",
   "name": "python",
   "nbconvert_exporter": "python",
   "pygments_lexer": "ipython3",
   "version": "3.12.3"
  }
 },
 "nbformat": 4,
 "nbformat_minor": 2
}
